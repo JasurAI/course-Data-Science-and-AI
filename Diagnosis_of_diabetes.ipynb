# **Portfolio uchun amaliyot. Diabet kasalligiga tashxis qo'yish.**

url = 'https://raw.githubusercontent.com/anvarnarz/praktikum_datasets/main/diabetes.csv'
dfd = pd.read_csv(url)
dfd.head()

dfd.shape

dfd.Outcome.value_counts()

corr_matrix = dfd.corr().abs()
corr_matrix.style.background_gradient(cmap='coolwarm')

dfd.corrwith(dfd['Outcome']).abs().sort_values(ascending=False)

X = dfd.drop('Outcome', axis=1).values
Y = dfd['Outcome'].copy()

from sklearn.preprocessing import StandardScaler

scaler = StandardScaler()
X = scaler.fit_transform(X)

# Train/test split
from sklearn.model_selection import train_test_split

X_train, X_test, Y_train, Y_test = train_test_split(X,Y, test_size=0.2, random_state=11)

# k-NN
from sklearn.neighbors import KNeighborsClassifier
knn = KNeighborsClassifier(n_neighbors=11) # k-ni qiymati

knn.fit(X_train, Y_train)

y_predict = knn.predict(X_test)

from sklearn.metrics import jaccard_score

jaccard_score(Y_test, y_predict)

from sklearn.metrics import confusion_matrix
import seaborn as sns
import matplotlib.pyplot as plt

sns.heatmap(confusion_matrix(Y_test, y_predict), annot=True)
plt.show()

from sklearn.metrics import precision_score, recall_score, f1_score, accuracy_score
precision = precision_score(Y_test, y_predict)
recall = recall_score(Y_test, y_predict)
f1 = f1_score(Y_test, y_predict)
accuracy = accuracy_score(Y_test, y_predict)
print(f"{precision=}\n{recall=}\n{f1=}\n{accuracy=}")

from sklearn.metrics import classification_report
print(classification_report(Y_test, y_predict))

# Cross validation
from sklearn.model_selection import cross_val_predict
predict = cross_val_predict(estimator = knn, X = X, y = Y, cv = 5)

# Modelni baholash
from sklearn.metrics import classification_report
print("Classification Report: \n",classification_report(Y, predict))

**Eng yaxshi k ni `for` sikli yordamida topish.**

f1 = []
for k in range(1,25):
    knn = KNeighborsClassifier(n_neighbors=k) # k-ni qiymati
    knn.fit(X_train, Y_train)
    y_predict = knn.predict(X_test)
    f1.append(f1_score(Y_test, y_predict))

plt.figure(figsize=(10,6))
plt.plot(range(1,25),f1)
plt.xticks(range(1,25))
plt.grid()
plt.show()
