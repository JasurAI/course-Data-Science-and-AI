dfp = pd.read_excel('/content/Data_09.xlsx', index_col=0)
dfp
dfp = dfp.iloc[:17,:30]
dfp
dfp.info()
korl = dfp.corrwith(dfp['TARGET CLASS']).sort_values(ascending=False)
korl = pd.DataFrame(korl)
korl = korl.abs()
korl
korl = korl.drop(index='TARGET CLASS')
import seaborn as sns
plt.figure(figsize=(10,4))
sns.barplot(x=korl.index, y=korl[0])
plt.title("Priznaklarning zilzilaga bog'liqlik korrilyatsiyasi")
plt.xlabel("Priznaklar")
plt.ylabel("Korrelatsiya koeffitsienti")
plt.show()
